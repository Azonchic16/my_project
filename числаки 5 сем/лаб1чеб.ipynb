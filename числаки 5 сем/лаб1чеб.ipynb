{
 "cells": [
  {
   "cell_type": "code",
   "execution_count": 11,
   "id": "fd76eafe-eac2-44c9-9801-22de4a0bafb6",
   "metadata": {},
   "outputs": [
    {
     "name": "stdout",
     "output_type": "stream",
     "text": [
      "0\n",
      "10\n",
      "5\n"
     ]
    },
    {
     "ename": "TypeError",
     "evalue": "unsupported operand type(s) for *: 'float' and 'function'",
     "output_type": "error",
     "traceback": [
      "\u001b[0;31m---------------------------------------------------------------------------\u001b[0m",
      "\u001b[0;31mTypeError\u001b[0m                                 Traceback (most recent call last)",
      "Cell \u001b[0;32mIn[11], line 27\u001b[0m\n\u001b[1;32m     24\u001b[0m b \u001b[38;5;241m=\u001b[39m \u001b[38;5;28mint\u001b[39m(\u001b[38;5;28minput\u001b[39m())\n\u001b[1;32m     25\u001b[0m n \u001b[38;5;241m=\u001b[39m \u001b[38;5;28mint\u001b[39m(\u001b[38;5;28minput\u001b[39m())\n\u001b[0;32m---> 27\u001b[0m \u001b[38;5;28mprint\u001b[39m(func1(a,b,n\u001b[38;5;241m+\u001b[39m\u001b[38;5;241m1\u001b[39m))\n",
      "Cell \u001b[0;32mIn[11], line 15\u001b[0m, in \u001b[0;36mfunc1\u001b[0;34m(a, b, n)\u001b[0m\n\u001b[1;32m     13\u001b[0m         \u001b[38;5;28;01mif\u001b[39;00m k \u001b[38;5;241m!=\u001b[39m j:\n\u001b[1;32m     14\u001b[0m             prod \u001b[38;5;241m=\u001b[39m \u001b[38;5;28;01mlambda\u001b[39;00m t: (t\u001b[38;5;241m-\u001b[39mx[j])\u001b[38;5;241m/\u001b[39m(x[k]\u001b[38;5;241m-\u001b[39mx[j])\n\u001b[0;32m---> 15\u001b[0m     polinom \u001b[38;5;241m=\u001b[39m polinom \u001b[38;5;241m+\u001b[39m y[k]\u001b[38;5;241m*\u001b[39mprod\n\u001b[1;32m     17\u001b[0m \u001b[38;5;28mprint\u001b[39m()\n\u001b[1;32m     18\u001b[0m \u001b[38;5;28;01mreturn\u001b[39;00m \u001b[38;5;241m0\u001b[39m\n",
      "\u001b[0;31mTypeError\u001b[0m: unsupported operand type(s) for *: 'float' and 'function'"
     ]
    }
   ],
   "source": [
    "import numpy as np\n",
    "import matplotlib.pyplot as plt\n",
    "import sympy as sp\n",
    "def func1(a, b, n):\n",
    "    x = np.linspace(a,b,n)\n",
    "    f = lambda b: (np.log(b+2)*np.sin(b/2))/2 \n",
    "    y = f(x)\n",
    "    z, t = sp.symbols('z, t')\n",
    "    polinom = 0\n",
    "    for k in range(len(x)):\n",
    "        prod = 1\n",
    "        for j in range(len(x)):\n",
    "            if k != j:\n",
    "                prod = lambda t: (t-x[j])/(x[k]-x[j])\n",
    "        polinom = polinom + y[k]*prod\n",
    "    \n",
    "    print()\n",
    "    return 0\n",
    "\n",
    "\n",
    "\n",
    "\n",
    "a = int(input())\n",
    "b = int(input())\n",
    "n = int(input())\n",
    "    \n",
    "print(func1(a,b,n+1))"
   ]
  },
  {
   "cell_type": "code",
   "execution_count": null,
   "id": "5da1e867",
   "metadata": {},
   "outputs": [],
   "source": []
  }
 ],
 "metadata": {
  "kernelspec": {
   "display_name": "Python 3 (ipykernel)",
   "language": "python",
   "name": "python3"
  },
  "language_info": {
   "codemirror_mode": {
    "name": "ipython",
    "version": 3
   },
   "file_extension": ".py",
   "mimetype": "text/x-python",
   "name": "python",
   "nbconvert_exporter": "python",
   "pygments_lexer": "ipython3",
   "version": "3.11.4"
  }
 },
 "nbformat": 4,
 "nbformat_minor": 5
}

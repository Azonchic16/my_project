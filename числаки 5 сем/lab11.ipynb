{
 "cells": [
  {
   "cell_type": "code",
   "execution_count": 1,
   "id": "fd76eafe-eac2-44c9-9801-22de4a0bafb6",
   "metadata": {},
   "outputs": [
    {
     "name": "stdout",
     "output_type": "stream",
     "text": [
      ",m\n"
     ]
    },
    {
     "ename": "ValueError",
     "evalue": "invalid literal for int() with base 10: ',m'",
     "output_type": "error",
     "traceback": [
      "\u001b[0;31m---------------------------------------------------------------------------\u001b[0m",
      "\u001b[0;31mValueError\u001b[0m                                Traceback (most recent call last)",
      "Cell \u001b[0;32mIn[1], line 4\u001b[0m\n\u001b[1;32m      2\u001b[0m \u001b[38;5;28;01mimport\u001b[39;00m \u001b[38;5;21;01mmatplotlib\u001b[39;00m\u001b[38;5;21;01m.\u001b[39;00m\u001b[38;5;21;01mpyplot\u001b[39;00m \u001b[38;5;28;01mas\u001b[39;00m \u001b[38;5;21;01mplt\u001b[39;00m\n\u001b[1;32m      3\u001b[0m \u001b[38;5;28;01mimport\u001b[39;00m \u001b[38;5;21;01mmath\u001b[39;00m\n\u001b[0;32m----> 4\u001b[0m a \u001b[38;5;241m=\u001b[39m \u001b[38;5;28mint\u001b[39m(\u001b[38;5;28minput\u001b[39m())\n\u001b[1;32m      5\u001b[0m b \u001b[38;5;241m=\u001b[39m \u001b[38;5;28mint\u001b[39m(\u001b[38;5;28minput\u001b[39m())\n\u001b[1;32m      6\u001b[0m n \u001b[38;5;241m=\u001b[39m \u001b[38;5;28mint\u001b[39m(\u001b[38;5;28minput\u001b[39m())\n",
      "\u001b[0;31mValueError\u001b[0m: invalid literal for int() with base 10: ',m'"
     ]
    }
   ],
   "source": [
    "import numpy as np\n",
    "import matplotlib.pyplot as plt\n",
    "import math\n",
    "a = int(input())\n",
    "b = int(input())\n",
    "n = int(input())\n",
    "x = np.linspace(a,b,n+1)\n",
    "f = lambda b: np.log(2+x*(1+np.cos(x)))\n",
    "y = f(x)\n",
    "def func1(t: float):\n",
    "    polinom = 0\n",
    "    for k in range(len(x)):\n",
    "        p = 1\n",
    "        for j in range(len(x)):\n",
    "            if k != j:\n",
    "                p = p*(t-x[j])/(x[k]-x[j])\n",
    "        polinom = polinom + y[k]*p\n",
    "    return polinom\n",
    "\n",
    "    \n",
    "c = np.linspace(0,10,100)\n",
    "g = [func1(i) for i in c]\n",
    "x_err = np.array([x[i] + (b-a)/(4*n) for i in range(0, len(x)-1)])\n",
    "pol_chetv = np.array([func1(elem) for elem in x_err])\n",
    "y_chetv = f(x_err)\n",
    "r = abs(pol_chetv - y_chetv)\n",
    "fig, axs = plt.subplots(nrows= 1 , ncols= 2 )\n",
    "axs[0].plot(c,g,label = 'полином')\n",
    "axs[0].plot(c,f(c),label = 'функция')\n",
    "axs[0].legend(fontsize = 14)\n",
    "axs[0].errorbar(x_err, pol_chetv, yerr=r, linestyle='none', ecolor = 'k',elinewidth=0.5, capsize=2, capthick=1)\n",
    "axs[0].grid(which='major')\n",
    "axs[1].scatter(x_err, r)\n",
    "fig.set_size_inches(14,7)\n",
    "plt.show()\n"
   ]
  },
  {
   "cell_type": "markdown",
   "id": "973d0f5d",
   "metadata": {},
   "source": [
    "## "
   ]
  },
  {
   "cell_type": "code",
   "execution_count": 3,
   "id": "d0a13656",
   "metadata": {},
   "outputs": [
    {
     "name": "stdout",
     "output_type": "stream",
     "text": [
      "0\n",
      "10\n",
      "15\n"
     ]
    },
    {
     "ename": "ValueError",
     "evalue": "operands could not be broadcast together with shapes (16,) (15,) ",
     "output_type": "error",
     "traceback": [
      "\u001b[0;31m---------------------------------------------------------------------------\u001b[0m",
      "\u001b[0;31mValueError\u001b[0m                                Traceback (most recent call last)",
      "Cell \u001b[0;32mIn[3], line 31\u001b[0m\n\u001b[1;32m     29\u001b[0m pol_chetv_cheb \u001b[38;5;241m=\u001b[39m np\u001b[38;5;241m.\u001b[39marray([func2(elem) \u001b[38;5;28;01mfor\u001b[39;00m elem \u001b[38;5;129;01min\u001b[39;00m x_err_cheb])\n\u001b[1;32m     30\u001b[0m y_chetv_cheb \u001b[38;5;241m=\u001b[39m f(x_err_cheb)\n\u001b[0;32m---> 31\u001b[0m r_cheb \u001b[38;5;241m=\u001b[39m \u001b[38;5;28mabs\u001b[39m(y_chetv_cheb \u001b[38;5;241m-\u001b[39m pol_chetv_cheb)\n\u001b[1;32m     32\u001b[0m fig, axs \u001b[38;5;241m=\u001b[39m plt\u001b[38;5;241m.\u001b[39msubplots(nrows \u001b[38;5;241m=\u001b[39m \u001b[38;5;241m1\u001b[39m, ncols \u001b[38;5;241m=\u001b[39m \u001b[38;5;241m2\u001b[39m)\n\u001b[1;32m     33\u001b[0m axs[\u001b[38;5;241m0\u001b[39m]\u001b[38;5;241m.\u001b[39mplot(c,g_cheb,label \u001b[38;5;241m=\u001b[39m \u001b[38;5;124m'\u001b[39m\u001b[38;5;124mполином чебышева\u001b[39m\u001b[38;5;124m'\u001b[39m)\n",
      "\u001b[0;31mValueError\u001b[0m: operands could not be broadcast together with shapes (16,) (15,) "
     ]
    }
   ],
   "source": [
    "import numpy as np\n",
    "import matplotlib.pyplot as plt\n",
    "import math\n",
    "a = int(input())\n",
    "b = int(input())\n",
    "n = int(input())\n",
    "x = np.linspace(a,b,n+1)\n",
    "f = lambda b: np.log(2+x*(1+np.cos(x)))\n",
    "y = f(x)\n",
    "\n",
    "q = [0.5*(a+b)+0.5*(b-a)*np.cos(np.pi*(2*k+1)/(2*n+2)) for k in range(n+1)]\n",
    "x_cheb = np.array(q[::-1])\n",
    "y_cheb = f(x_cheb)\n",
    "\n",
    "def func2(t: float):\n",
    "    polinom = 0\n",
    "    for k in range(len(x_cheb)):\n",
    "        p = 1\n",
    "        for j in range(len(x_cheb)):\n",
    "            if k != j:\n",
    "                p = p*(t-x_cheb[j])/(x_cheb[k]-x_cheb[j])\n",
    "        polinom = polinom + y_cheb[k]*p\n",
    "    return polinom\n",
    "\n",
    "    \n",
    "c = np.linspace(0,10,100)\n",
    "g_cheb = [func2(i) for i in c]\n",
    "x_err_cheb = np.array([x_cheb[k] + (x_cheb[k+1] - x_cheb[k])/4 for k in range(n)])\n",
    "pol_chetv_cheb = np.array([func2(elem) for elem in x_err_cheb])\n",
    "y_chetv_cheb = f(x_err_cheb)\n",
    "r_cheb = abs(y_chetv_cheb - pol_chetv_cheb)\n",
    "fig, axs = plt.subplots(nrows = 1, ncols = 2)\n",
    "axs[0].plot(c,g_cheb,label = 'полином чебышева')\n",
    "axs[0].plot(c,f(c),label = 'функция')\n",
    "axs[0].legend(fontsize = 14)\n",
    "axs[0].errorbar(x_err_cheb, pol_chetv_cheb, yerr=r_cheb, linestyle='none', ecolor = 'k',elinewidth=0.5, capsize=2, capthick=1)\n",
    "axs[1].scatter(x_err_cheb, r_cheb)\n",
    "fig.set_size_inches(14,7)\n",
    "plt.show()"
   ]
  },
  {
   "cell_type": "code",
   "execution_count": 5,
   "id": "a32fbac2",
   "metadata": {},
   "outputs": [
    {
     "data": {
      "image/png": "[encoded data removed]",
      "text/plain": [
       "<Figure size 640x480 with 1 Axes>"
      ]
     },
     "metadata": {},
     "output_type": "display_data"
    },
    {
     "data": {
      "text/plain": [
       "<sympy.plotting.plot.Plot at 0x7f54681c3f10>"
      ]
     },
     "execution_count": 5,
     "metadata": {},
     "output_type": "execute_result"
    }
   ],
   "source": [
    "import sympy as sp\n",
    "import math\n",
    "import numpy as np\n",
    "x = sp.Symbol('x')\n",
    "sp.plot(np.e**(x/3)/10)"
   ]
  },
  {
   "cell_type": "code",
   "execution_count": null,
   "id": "a583b903",
   "metadata": {},
   "outputs": [],
   "source": []
  }
 ],
 "metadata": {
  "kernelspec": {
   "display_name": "Python 3 (ipykernel)",
   "language": "python",
   "name": "python3"
  },
  "language_info": {
   "codemirror_mode": {
    "name": "ipython",
    "version": 3
   },
   "file_extension": ".py",
   "mimetype": "text/x-python",
   "name": "python",
   "nbconvert_exporter": "python",
   "pygments_lexer": "ipython3",
   "version": "3.11.4"
  }
 },
 "nbformat": 4,
 "nbformat_minor": 5
}

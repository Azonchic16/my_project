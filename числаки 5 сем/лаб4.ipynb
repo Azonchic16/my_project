{
 "cells": [
  {
   "cell_type": "code",
   "execution_count": null,
   "id": "bf51850d",
   "metadata": {},
   "outputs": [
    {
     "name": "stdout",
     "output_type": "stream",
     "text": [
      "0\n",
      "0\n",
      "0\n",
      "[-0.0012251317334795783, 2690]\n"
     ]
    }
   ],
   "source": [
    "import math\n",
    "import numpy as np\n",
    "import sympy as sp\n",
    "import matplotlib.pyplot as plt\n",
    "\n",
    "a = 0\n",
    "b = 10\n",
    "c = np.linspace(0,10,100)\n",
    "\n",
    "f = lambda x: 0.4*np.sin(np.pi * x/2) - x\n",
    "x = sp.Symbol('x')\n",
    "f_der = sp.diff(4*sp.sin(x/2) + \n",
    "                sp.cos(x)*(sp.exp(x) - sp.exp(-x))/(sp.exp(x) + sp.exp(-x)) - x + 2, x)\n",
    "def dihotomia(a,b,eps):\n",
    "    i = 0\n",
    "    if f(a) == 0:\n",
    "        return a\n",
    "    elif f(b) == 0:\n",
    "        return b\n",
    "    if f(a)*f(b) < 0:\n",
    "        while ((b-a) > eps):\n",
    "            c = (a+b)/2\n",
    "            f_c, f_a, f_b  = f(c), f(a), f(b)\n",
    "            if f_c == 0:\n",
    "                break\n",
    "            elif f_c*f_a < 0:\n",
    "                b = c\n",
    "            else:\n",
    "                a = c\n",
    "            i += 1\n",
    "        return [c,i]\n",
    "    else:\n",
    "        return 'Корня нет'\n",
    "    \n",
    "x_0 = 10 # начальное приближение корня\n",
    "def newton(a,b,x_0, eps):\n",
    "    f_der_x0 = f_der.subs(x, x_0)\n",
    "    x_1 = x_0-f(x_0)/float(f_der_x0)\n",
    "    i = 1\n",
    "    while (abs(x_1 - x_0) > eps):\n",
    "        x_0 = x_1\n",
    "        x_1 = x_1 - f(x_1)/(float(f_der.subs(x, x_1)))\n",
    "        i += 1\n",
    "    return [x_1,i]\n",
    "                              \n",
    "print(dihotomia(a,b,10**(-3)))\n",
    "print(dihotomia(a,b,10**(-6)))\n",
    "print(dihotomia(a,b,10**(-12)))\n",
    "print(newton(a,b,x_0,10**(-3)))\n",
    "print(newton(a,b,x_0,10**(-6)))\n",
    "print(newton(a,b,x_0,10**(-15)))\n",
    "plt.plot(c, f(c))\n",
    "plt.grid(True)"
   ]
  },
  {
   "cell_type": "code",
   "execution_count": 14,
   "id": "2264f9b6",
   "metadata": {},
   "outputs": [
    {
     "data": {
      "text/plain": [
       "[<matplotlib.lines.Line2D at 0x7f35080f1dd0>]"
      ]
     },
     "execution_count": 14,
     "metadata": {},
     "output_type": "execute_result"
    },
    {
     "data": {
      "image/png": "[encoded data removed]",
      "text/plain": [
       "<Figure size 640x480 with 1 Axes>"
      ]
     },
     "metadata": {},
     "output_type": "display_data"
    }
   ],
   "source": [
    "f = lambda x: x*np.arctan(x) + x/2*np.cos(x) - 3\n",
    "c = np.linspace(0,10,100)\n",
    "plt.plot(c, f(c))"
   ]
  },
  {
   "cell_type": "code",
   "execution_count": 17,
   "id": "68cfc59d",
   "metadata": {},
   "outputs": [
    {
     "name": "stdout",
     "output_type": "stream",
     "text": [
      "1.0\n"
     ]
    }
   ],
   "source": []
  },
  {
   "cell_type": "code",
   "execution_count": null,
   "id": "79f519d6",
   "metadata": {},
   "outputs": [],
   "source": []
  }
 ],
 "metadata": {
  "kernelspec": {
   "display_name": "Python 3 (ipykernel)",
   "language": "python",
   "name": "python3"
  },
  "language_info": {
   "codemirror_mode": {
    "name": "ipython",
    "version": 3
   },
   "file_extension": ".py",
   "mimetype": "text/x-python",
   "name": "python",
   "nbconvert_exporter": "python",
   "pygments_lexer": "ipython3",
   "version": "3.11.4"
  }
 },
 "nbformat": 4,
 "nbformat_minor": 5
}

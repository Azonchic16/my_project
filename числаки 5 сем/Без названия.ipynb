{
 "cells": [
  {
   "cell_type": "code",
   "execution_count": 3,
   "id": "9de9f22a",
   "metadata": {},
   "outputs": [
    {
     "name": "stdout",
     "output_type": "stream",
     "text": [
      "[[1, 5], [3]]\n"
     ]
    }
   ],
   "source": [
    "a = [1]\n",
    "b = [3]\n",
    "s = [a,b]\n",
    "a.append(5)\n",
    "print(s)"
   ]
  },
  {
   "cell_type": "code",
   "execution_count": 9,
   "id": "aa613d79",
   "metadata": {},
   "outputs": [
    {
     "name": "stdout",
     "output_type": "stream",
     "text": [
      "   event_date category\n",
      "0  2022-12-01   Одежда\n",
      "1  2023-12-01   Одежда\n"
     ]
    }
   ],
   "source": [
    "import pandas as pd\n",
    "df = pd.DataFrame({'event_date': ['2022-12-01', '2023-12-01', '2023-12-01'], 'category': \n",
    "                   ['Одежда', 'Одежда', 'Одежа']})\n",
    "\n",
    "\n",
    "print(df.loc[df['category'] == 'Одежда'])"
   ]
  }
 ],
 "metadata": {
  "kernelspec": {
   "display_name": "Python 3 (ipykernel)",
   "language": "python",
   "name": "python3"
  },
  "language_info": {
   "codemirror_mode": {
    "name": "ipython",
    "version": 3
   },
   "file_extension": ".py",
   "mimetype": "text/x-python",
   "name": "python",
   "nbconvert_exporter": "python",
   "pygments_lexer": "ipython3",
   "version": "3.11.4"
  }
 },
 "nbformat": 4,
 "nbformat_minor": 5
}

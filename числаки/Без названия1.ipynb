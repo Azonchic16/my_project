{
 "cells": [
  {
   "cell_type": "markdown",
   "id": "a742b00e",
   "metadata": {},
   "source": [
    "$$\\left( \\sum_{k=1}^M (x_k - x_k^*)^2 \\right)$$"
   ]
  }
 ],
 "metadata": {
  "kernelspec": {
   "display_name": "Python 3 (ipykernel)",
   "language": "python",
   "name": "python3"
  },
  "language_info": {
   "codemirror_mode": {
    "name": "ipython",
    "version": 3
   },
   "file_extension": ".py",
   "mimetype": "text/x-python",
   "name": "python",
   "nbconvert_exporter": "python",
   "pygments_lexer": "ipython3",
   "version": "3.11.4"
  }
 },
 "nbformat": 4,
 "nbformat_minor": 5
}

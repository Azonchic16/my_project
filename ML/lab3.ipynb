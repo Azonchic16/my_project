{
 "cells": [
  {
   "cell_type": "code",
   "execution_count": 1,
   "id": "3502c192",
   "metadata": {},
   "outputs": [],
   "source": [
    "import numpy as np\n",
    "import pandas as pd\n",
    "import matplotlib.pyplot as plt\n",
    "\n",
    "class MyLogReg():\n",
    "\n",
    "    def __init__(self, n_iter=5000, learning_rate=0.01, weights=None, metric=None, reg=None,\n",
    "                l1_coef=0, l2_coef=0):\n",
    "        self.n_iter = n_iter\n",
    "        self.learning_rate = learning_rate\n",
    "        self.weights = weights\n",
    "        self.metric = metric\n",
    "        self.metric_value = None\n",
    "        self.reg = reg\n",
    "        self.l1_coef = l1_coef\n",
    "        self.l2_coef = l2_coef \n",
    "        \n",
    "    def __str__(self):\n",
    "        return f'MyLogReg class: n_iter={self.n_iter}, learning_rate={self.learning_rate}'\n",
    "    \n",
    "    def fit(self, X, y, verbose=False):\n",
    "        n = len(X)\n",
    "        y = np.array(y)\n",
    "        m = len(X.columns)\n",
    "        X.insert(0, 'x0', [1] * n)\n",
    "        self.weights = np.zeros(m + 1)\n",
    "        eps = 1e-15\n",
    "        error = []\n",
    "        for i in range(self.n_iter):\n",
    "            y_pred = 1 / (1 + np.exp(-np.dot(X, self.weights)))\n",
    "            LogLoss = -(1 / n) * np.sum(y * np.log(y_pred) + (1 - y) * np.log(1 - y_pred))  + self.regularization()[0] / n\n",
    "            grad = (1 / n) * np.dot((y_pred - y), X) + self.regularization()[1]  / n\n",
    "            self.weights = self.weights - self.learning_rate * grad\n",
    "            error.append(LogLoss)\n",
    "        del X['x0']\n",
    "        return (self.weights, error)\n",
    "        \n",
    "    def get_coef(self):\n",
    "        return np.sum(self.weights[1:])\n",
    "    \n",
    "    def predict_proba(self, X):\n",
    "        if not(len(self.weights) == len(X.columns)):\n",
    "            n = len(X)\n",
    "            X.insert(0, 'x0', [1] * n)\n",
    "        prb = 1 / (1 + np.exp(-np.dot(X, self.weights)))\n",
    "        return prb\n",
    "    \n",
    "    def predict(self, X):\n",
    "        if not(len(self.weights) == len(X.columns)):\n",
    "            n = len(X)\n",
    "            X.insert(0, 'x0', [1] * n)\n",
    "        prb = 1 / (1 + np.exp(-np.dot(X, self.weights)))\n",
    "        y_pred = self.classification(prb, 0.5)\n",
    "        return int(sum(y_pred))\n",
    "    \n",
    "    def metrics(self, y_pred, y):\n",
    "            TP = np.count_nonzero((y_pred == 1) & (y_pred == y))\n",
    "            TN = np.count_nonzero((y_pred == 0) & (y_pred == y))\n",
    "            FN = np.count_nonzero((y_pred == 0) & (y_pred != y))\n",
    "            FP = np.count_nonzero((y_pred == 1) & (y_pred != y))\n",
    "            accuracy = (TP + TN) / (TP + TN + FN + FP)\n",
    "            metrics = {'accuracy': accuracy}\n",
    "            return metrics[self.metric]\n",
    "    \n",
    "    def classification(self, pred):\n",
    "        classes = np.zeros_like(pred)\n",
    "        classes[pred >= 0] = 1\n",
    "        classes[pred < 0] = 0\n",
    "        return classes\n",
    "    \n",
    "    def get_best_score(self):\n",
    "        return self.metric_value\n",
    "    \n",
    "    def regularization(self):\n",
    "        l1 = self.l1_coef * sum(np.abs(self.weights[1:]))\n",
    "        l2 = self.l2_coef * sum((self.weights[1:])**2)\n",
    "        gr1 = np.zeros_like(self.weights)\n",
    "        gr1[1:] = self.l1_coef * np.sign(self.weights[1:])\n",
    "        gr2 = np.zeros_like(self.weights)\n",
    "        gr2[1:] = 2 * self.l2_coef * self.weights[1:]\n",
    "        regul = {'l1': l1,\n",
    "                 'l2': l2,\n",
    "                 'elasticnet': l1 + l2,\n",
    "                 None: 0}\n",
    "        regul_grad = {'l1': gr1,\n",
    "                      'l2': gr2,\n",
    "                      'elasticnet': gr1 + gr2,\n",
    "                      None: 0}\n",
    "        return (regul[self.reg], regul_grad[self.reg])"
   ]
  },
  {
   "cell_type": "code",
   "execution_count": 2,
   "id": "3397074d",
   "metadata": {},
   "outputs": [],
   "source": [
    "def features(x1, x2):\n",
    "    lst = []\n",
    "    for i in range(31):\n",
    "        for j in range(31):\n",
    "            if (i + j) <= 30:\n",
    "                lst.append((x1 ** i) * (x2 ** j))\n",
    "    data = np.array(lst)\n",
    "    data1 = data.transpose()\n",
    "    df = pd.DataFrame({i + i: data[:, i] for i in range(data1.shape[0])})\n",
    "    new = df.T\n",
    "    return new"
   ]
  },
  {
   "cell_type": "code",
   "execution_count": 3,
   "id": "4edbcb23",
   "metadata": {},
   "outputs": [],
   "source": [
    "def normalize(df):\n",
    "    df = df.to_numpy()\n",
    "    arr = df.transpose()\n",
    "    new = np.zeros_like(arr)\n",
    "    for i in range(arr.shape[0]):\n",
    "        new[i,:] = (arr[i,:] - np.mean(arr[i,:])) / np.std(arr[i,:])\n",
    "    new_transpose = new.transpose()\n",
    "    res = pd.DataFrame(data=new_transpose)\n",
    "    return res"
   ]
  },
  {
   "cell_type": "code",
   "execution_count": 4,
   "id": "ff614732",
   "metadata": {},
   "outputs": [
    {
     "name": "stderr",
     "output_type": "stream",
     "text": [
      "/tmp/ipykernel_3404/3058363186.py:6: RuntimeWarning: invalid value encountered in divide\n",
      "  new[i,:] = (arr[i,:] - np.mean(arr[i,:])) / np.std(arr[i,:])\n",
      "/tmp/ipykernel_3404/2155597929.py:10: PerformanceWarning: DataFrame is highly fragmented.  This is usually the result of calling `frame.insert` many times, which has poor performance.  Consider joining all columns at once using pd.concat(axis=1) instead. To get a de-fragmented frame, use `newframe = frame.copy()`\n",
      "  X_test.insert(0, 0, [1] * len(X_test))\n",
      "/tmp/ipykernel_3404/3058363186.py:6: RuntimeWarning: invalid value encountered in divide\n",
      "  new[i,:] = (arr[i,:] - np.mean(arr[i,:])) / np.std(arr[i,:])\n",
      "/tmp/ipykernel_3404/2155597929.py:13: PerformanceWarning: DataFrame is highly fragmented.  This is usually the result of calling `frame.insert` many times, which has poor performance.  Consider joining all columns at once using pd.concat(axis=1) instead. To get a de-fragmented frame, use `newframe = frame.copy()`\n",
      "  X_val.insert(0, 0, [1] * len(X_val))\n"
     ]
    }
   ],
   "source": [
    "from sklearn.model_selection import train_test_split\n",
    "df = pd.read_csv('ex2data2.csv', names=['x1', 'x2', 'y'])\n",
    "X = features(np.array(df['x1']), np.array(df['x2']))\n",
    "X_train, X_test, y_train, y_test = train_test_split(X, df['y'], test_size=0.3, random_state=42)\n",
    "X_test, X_val, y_test, y_val = train_test_split(X_test, y_test, test_size=0.3, random_state=42)\n",
    "X_train = normalize(X_train)\n",
    "del X_train[0]\n",
    "X_test = normalize(X_test)\n",
    "del X_test[0]\n",
    "X_test.insert(0, 0, [1] * len(X_test))\n",
    "X_val = normalize(X_val)\n",
    "del X_val[0]\n",
    "X_val.insert(0, 0, [1] * len(X_val))"
   ]
  },
  {
   "cell_type": "code",
   "execution_count": 5,
   "id": "47adedc6",
   "metadata": {},
   "outputs": [
    {
     "name": "stderr",
     "output_type": "stream",
     "text": [
      "/tmp/ipykernel_3404/1702740306.py:25: PerformanceWarning: DataFrame is highly fragmented.  This is usually the result of calling `frame.insert` many times, which has poor performance.  Consider joining all columns at once using pd.concat(axis=1) instead. To get a de-fragmented frame, use `newframe = frame.copy()`\n",
      "  X.insert(0, 'x0', [1] * n)\n"
     ]
    },
    {
     "name": "stdout",
     "output_type": "stream",
     "text": [
      "значение параметра регуляризации: 3.6666666666666665\n"
     ]
    }
   ],
   "source": [
    "h = 0.3\n",
    "a = 0\n",
    "b = 5\n",
    "values_of_par = np.linspace(a, b, int((b - a) / h))\n",
    "values_of_loss = np.zeros_like(values_of_par, dtype=np.float64)\n",
    "for i in range(len(values_of_par)):\n",
    "    model = MyLogReg(n_iter=10000, learning_rate=0.5, l2_coef=values_of_par[i], reg='l2')\n",
    "    weights = model.fit(X_train, y_train)[0]\n",
    "    y_pred = 1 / (1 + np.exp(-np.dot(X_val, weights)))\n",
    "    LogLoss = -(1 / len(X_val)) * np.sum(y_val * np.log(y_pred) + (1 - y_val) * np.log(1 - y_pred))\n",
    "    values_of_loss[i] =  LogLoss\n",
    "\n",
    "par = values_of_par[values_of_loss.argmin()]\n",
    "print(f'значение параметра регуляризации: {par}')"
   ]
  },
  {
   "cell_type": "code",
   "execution_count": 6,
   "id": "c121e841",
   "metadata": {},
   "outputs": [
    {
     "name": "stdout",
     "output_type": "stream",
     "text": [
      "точность для тренировочной: 0.8536585365853658\n",
      "точность для тестовой: 0.84\n",
      "точность для валидационной: 0.9090909090909091\n"
     ]
    }
   ],
   "source": [
    "model = MyLogReg(n_iter=50000, learning_rate=0.5, l2_coef=par, metric='accuracy', reg='l2')\n",
    "weights_reg = model.fit(X_train, y_train)[0]\n",
    "X_train.insert(0, 0, [1] * len(X_train))\n",
    "y_pred_train = np.dot(X_train, weights_reg)\n",
    "y_pred_test = np.dot(X_test, weights_reg)\n",
    "y_pred_val = np.dot(X_val, weights_reg)\n",
    "y_classes_train = model.classification(y_pred_train)\n",
    "y_classes_test = model.classification(y_pred_test)\n",
    "y_classes_val = model.classification(y_pred_val)\n",
    "print(f'точность для тренировочной: {model.metrics(y_classes_train, y_train)}')\n",
    "print(f'точность для тестовой: {model.metrics(y_classes_test, y_test)}')\n",
    "print(f'точность для валидационной: {model.metrics(y_classes_val, y_val)}')\n",
    "del X_train[0]"
   ]
  }
 ],
 "metadata": {
  "kernelspec": {
   "display_name": "Python 3 (ipykernel)",
   "language": "python",
   "name": "python3"
  },
  "language_info": {
   "codemirror_mode": {
    "name": "ipython",
    "version": 3
   },
   "file_extension": ".py",
   "mimetype": "text/x-python",
   "name": "python",
   "nbconvert_exporter": "python",
   "pygments_lexer": "ipython3",
   "version": "3.11.4"
  },
  "varInspector": {
   "cols": {
    "lenName": 16,
    "lenType": 16,
    "lenVar": 40
   },
   "kernels_config": {
    "python": {
     "delete_cmd_postfix": "",
     "delete_cmd_prefix": "del ",
     "library": "var_list.py",
     "varRefreshCmd": "print(var_dic_list())"
    },
    "r": {
     "delete_cmd_postfix": ") ",
     "delete_cmd_prefix": "rm(",
     "library": "var_list.r",
     "varRefreshCmd": "cat(var_dic_list()) "
    }
   },
   "types_to_exclude": [
    "module",
    "function",
    "builtin_function_or_method",
    "instance",
    "_Feature"
   ],
   "window_display": false
  }
 },
 "nbformat": 4,
 "nbformat_minor": 5
}

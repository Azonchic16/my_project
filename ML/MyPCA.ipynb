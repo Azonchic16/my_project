{
 "cells": [
  {
   "cell_type": "code",
   "execution_count": null,
   "id": "224fcb87",
   "metadata": {},
   "outputs": [],
   "source": [
    "import numpy as np\n",
    "import pandas as pd\n",
    "import matplotlib.pyplot as plt"
   ]
  },
  {
   "cell_type": "code",
   "execution_count": 14,
   "id": "4622f08a",
   "metadata": {},
   "outputs": [],
   "source": [
    "class MyPCA():\n",
    "    \n",
    "    def __init__(self, n_components=3):\n",
    "        self.n_components = n_components\n",
    "        \n",
    "    def __str__(self):\n",
    "        return f'MyPCA class: n_components={self.n_components}'\n",
    "    \n",
    "    def fit_transform(self, X):\n",
    "        X = X.transform(lambda x: x - x.mean())\n",
    "        cov = np.cov(X.T)\n",
    "        l, v = np.linalg.eigh(cov)\n",
    "        v = v.transpose()\n",
    "        l = pd.Series(l)\n",
    "        l = l.sort_values(ascending=False)\n",
    "        l = l[:self.n_components].index\n",
    "        w = np.zeros((len(l), len(X.columns)))\n",
    "        for i in range(len(l)):\n",
    "            w[i,:] = v[l[i],:]\n",
    "        w = w.transpose()\n",
    "        X_reduced = np.dot(X, w)\n",
    "        df = pd.DataFrame(data=X_reduced)\n",
    "        return df\n",
    "        "
   ]
  },
  {
   "cell_type": "code",
   "execution_count": 30,
   "id": "b3e91018",
   "metadata": {},
   "outputs": [
    {
     "name": "stdout",
     "output_type": "stream",
     "text": [
      "        0    1    2\n",
      "col1 -1.0  0.0  1.0\n",
      "col2 -1.0  0.0  1.0\n"
     ]
    }
   ],
   "source": [
    "import pandas as pd\n",
    "\n",
    "# Создайте DataFrame\n",
    "df = pd.DataFrame({'col1': [1, 2, 3], 'col2': [4, 5, 6]})\n",
    "\n",
    "# Вычтем среднее значение из каждого столбца, используя lambda\n",
    "df = df.transform(lambda x: x - x.mean())\n",
    "\n",
    "print(df.T)"
   ]
  }
 ],
 "metadata": {
  "kernelspec": {
   "display_name": "Python 3 (ipykernel)",
   "language": "python",
   "name": "python3"
  },
  "language_info": {
   "codemirror_mode": {
    "name": "ipython",
    "version": 3
   },
   "file_extension": ".py",
   "mimetype": "text/x-python",
   "name": "python",
   "nbconvert_exporter": "python",
   "pygments_lexer": "ipython3",
   "version": "3.11.4"
  },
  "varInspector": {
   "cols": {
    "lenName": 16,
    "lenType": 16,
    "lenVar": 40
   },
   "kernels_config": {
    "python": {
     "delete_cmd_postfix": "",
     "delete_cmd_prefix": "del ",
     "library": "var_list.py",
     "varRefreshCmd": "print(var_dic_list())"
    },
    "r": {
     "delete_cmd_postfix": ") ",
     "delete_cmd_prefix": "rm(",
     "library": "var_list.r",
     "varRefreshCmd": "cat(var_dic_list()) "
    }
   },
   "types_to_exclude": [
    "module",
    "function",
    "builtin_function_or_method",
    "instance",
    "_Feature"
   ],
   "window_display": false
  }
 },
 "nbformat": 4,
 "nbformat_minor": 5
}
